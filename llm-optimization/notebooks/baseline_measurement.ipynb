{
 "cells": [
  {
   "cell_type": "code",
   "execution_count": 1,
   "metadata": {},
   "outputs": [],
   "source": [
    "import sys\n",
    "import torch\n",
    "import numpy as np\n",
    "import matplotlib.pyplot as plt\n",
    "from pathlib import Path\n",
    "\n",
    "# Add the src directory to the path\n",
    "sys.path.append('..')"
   ]
  },
  {
   "cell_type": "code",
   "execution_count": 2,
   "metadata": {},
   "outputs": [],
   "source": [
    "# Import our modules\n",
    "from src.models.distilbert import load_distilbert_model, get_device\n",
    "from src.data.dataset import load_and_prepare_data, prepare_batch_for_model\n",
    "from src.utils.metrics import measure_performance, save_metrics, print_metrics"
   ]
  },
  {
   "cell_type": "code",
   "execution_count": 4,
   "metadata": {},
   "outputs": [
    {
     "name": "stdout",
     "output_type": "stream",
     "text": [
      "Using device: cpu\n"
     ]
    }
   ],
   "source": [
    "# Model configuration\n",
    "MODEL_NAME = \"distilbert-base-uncased\"\n",
    "NUM_LABELS = 2  # Binary classification\n",
    "\n",
    "# Dataset configuration\n",
    "DATASET_NAME = \"glue\"\n",
    "DATASET_CONFIG = \"sst2\"  # Stanford Sentiment Treebank\n",
    "BATCH_SIZE = 16\n",
    "MAX_LENGTH = 128\n",
    "\n",
    "# Output path\n",
    "OUTPUT_DIR = Path(\"../outputs\")\n",
    "OUTPUT_DIR.mkdir(exist_ok=True, parents=True)\n",
    "\n",
    "# Device\n",
    "DEVICE = get_device()\n",
    "print(f\"Using device: {DEVICE}\")"
   ]
  },
  {
   "cell_type": "code",
   "execution_count": 5,
   "metadata": {},
   "outputs": [
    {
     "name": "stdout",
     "output_type": "stream",
     "text": [
      "Loading pre-trained distilbert-base-uncased model...\n"
     ]
    },
    {
     "name": "stderr",
     "output_type": "stream",
     "text": [
      "Some weights of DistilBertForSequenceClassification were not initialized from the model checkpoint at distilbert-base-uncased and are newly initialized: ['classifier.bias', 'classifier.weight', 'pre_classifier.bias', 'pre_classifier.weight']\n",
      "You should probably TRAIN this model on a down-stream task to be able to use it for predictions and inference.\n"
     ]
    },
    {
     "name": "stdout",
     "output_type": "stream",
     "text": [
      "Loading dataset and preparing data loaders...\n"
     ]
    }
   ],
   "source": [
    "# Load model and tokenizer\n",
    "print(f\"Loading pre-trained {MODEL_NAME} model...\")\n",
    "model, tokenizer = load_distilbert_model(MODEL_NAME, NUM_LABELS)\n",
    "\n",
    "# Load and prepare dataset\n",
    "print(\"Loading dataset and preparing data loaders...\")\n",
    "tokenizer, train_dataloader, eval_dataloader = load_and_prepare_data(\n",
    "    tokenizer, \n",
    "    dataset_name=DATASET_NAME, \n",
    "    dataset_config=DATASET_CONFIG,\n",
    "    batch_size=BATCH_SIZE, \n",
    "    max_length=MAX_LENGTH\n",
    ")"
   ]
  },
  {
   "cell_type": "code",
   "execution_count": 6,
   "metadata": {},
   "outputs": [
    {
     "name": "stdout",
     "output_type": "stream",
     "text": [
      "Measuring baseline performance...\n",
      "\n",
      "==================================================\n",
      "Model: distilbert-base-uncased\n",
      "Task: Text Classification - glue/sst2\n",
      "Number of parameters: 66,955,010\n",
      "Model size: 255.41 MB\n",
      "Average inference latency: 202.79 ms\n",
      "Accuracy: 0.4908\n",
      "==================================================\n",
      "Metrics saved to ../outputs/baseline_metrics.pt\n"
     ]
    }
   ],
   "source": [
    "# Define function to prepare batch for our specific use case\n",
    "def prepare_batch(batch, device):\n",
    "    return prepare_batch_for_model(batch, device)\n",
    "\n",
    "# Measure baseline performance\n",
    "print(\"Measuring baseline performance...\")\n",
    "baseline_metrics = measure_performance(model, eval_dataloader, DEVICE, prepare_batch)\n",
    "\n",
    "# Print results\n",
    "print_metrics(\n",
    "    baseline_metrics, \n",
    "    model_name=MODEL_NAME, \n",
    "    dataset_info=f\"Text Classification - {DATASET_NAME}/{DATASET_CONFIG}\"\n",
    ")\n",
    "\n",
    "# Save metrics\n",
    "save_metrics(baseline_metrics, file_path=OUTPUT_DIR / \"baseline_metrics.pt\")"
   ]
  },
  {
   "cell_type": "code",
   "execution_count": 7,
   "metadata": {},
   "outputs": [
    {
     "name": "stdout",
     "output_type": "stream",
     "text": [
      "DistilBertForSequenceClassification(\n",
      "  (distilbert): DistilBertModel(\n",
      "    (embeddings): Embeddings(\n",
      "      (word_embeddings): Embedding(30522, 768, padding_idx=0)\n",
      "      (position_embeddings): Embedding(512, 768)\n",
      "      (LayerNorm): LayerNorm((768,), eps=1e-12, elementwise_affine=True)\n",
      "      (dropout): Dropout(p=0.1, inplace=False)\n",
      "    )\n",
      "    (transformer): Transformer(\n",
      "      (layer): ModuleList(\n",
      "        (0-5): 6 x TransformerBlock(\n",
      "          (attention): DistilBertSdpaAttention(\n",
      "            (dropout): Dropout(p=0.1, inplace=False)\n",
      "            (q_lin): Linear(in_features=768, out_features=768, bias=True)\n",
      "            (k_lin): Linear(in_features=768, out_features=768, bias=True)\n",
      "            (v_lin): Linear(in_features=768, out_features=768, bias=True)\n",
      "            (out_lin): Linear(in_features=768, out_features=768, bias=True)\n",
      "          )\n",
      "          (sa_layer_norm): LayerNorm((768,), eps=1e-12, elementwise_affine=True)\n",
      "          (ffn): FFN(\n",
      "            (dropout): Dropout(p=0.1, inplace=False)\n",
      "            (lin1): Linear(in_features=768, out_features=3072, bias=True)\n",
      "            (lin2): Linear(in_features=3072, out_features=768, bias=True)\n",
      "            (activation): GELUActivation()\n",
      "          )\n",
      "          (output_layer_norm): LayerNorm((768,), eps=1e-12, elementwise_affine=True)\n",
      "        )\n",
      "      )\n",
      "    )\n",
      "  )\n",
      "  (pre_classifier): Linear(in_features=768, out_features=768, bias=True)\n",
      "  (classifier): Linear(in_features=768, out_features=2, bias=True)\n",
      "  (dropout): Dropout(p=0.2, inplace=False)\n",
      ")\n"
     ]
    }
   ],
   "source": [
    "# Print model architecture\n",
    "print(model)"
   ]
  },
  {
   "cell_type": "code",
   "execution_count": 8,
   "metadata": {},
   "outputs": [
    {
     "name": "stdout",
     "output_type": "stream",
     "text": [
      "Top 10 largest layers by parameter count:\n",
      "distilbert.embeddings.word_embeddings.weight: 23,440,896 parameters (35.01% of total)\n",
      "distilbert.transformer.layer.0.ffn.lin1.weight: 2,359,296 parameters (3.52% of total)\n",
      "distilbert.transformer.layer.0.ffn.lin2.weight: 2,359,296 parameters (3.52% of total)\n",
      "distilbert.transformer.layer.1.ffn.lin1.weight: 2,359,296 parameters (3.52% of total)\n",
      "distilbert.transformer.layer.1.ffn.lin2.weight: 2,359,296 parameters (3.52% of total)\n",
      "distilbert.transformer.layer.2.ffn.lin1.weight: 2,359,296 parameters (3.52% of total)\n",
      "distilbert.transformer.layer.2.ffn.lin2.weight: 2,359,296 parameters (3.52% of total)\n",
      "distilbert.transformer.layer.3.ffn.lin1.weight: 2,359,296 parameters (3.52% of total)\n",
      "distilbert.transformer.layer.3.ffn.lin2.weight: 2,359,296 parameters (3.52% of total)\n",
      "distilbert.transformer.layer.4.ffn.lin1.weight: 2,359,296 parameters (3.52% of total)\n"
     ]
    }
   ],
   "source": [
    "# Analyze parameter distribution\n",
    "param_sizes = {name: param.numel() for name, param in model.named_parameters()}\n",
    "total_params = sum(param_sizes.values())\n",
    "\n",
    "# Sort by size\n",
    "sorted_params = sorted(param_sizes.items(), key=lambda x: x[1], reverse=True)\n",
    "\n",
    "# Print the largest layers\n",
    "print(\"Top 10 largest layers by parameter count:\")\n",
    "for name, count in sorted_params[:10]:\n",
    "    print(f\"{name}: {count:,} parameters ({count/total_params*100:.2f}% of total)\")"
   ]
  },
  {
   "cell_type": "code",
   "execution_count": 9,
   "metadata": {},
   "outputs": [
    {
     "data": {
      "image/png": "[encoded data removed]",
      "text/plain": [
       "<Figure size 1000x600 with 1 Axes>"
      ]
     },
     "metadata": {},
     "output_type": "display_data"
    },
    {
     "name": "stdout",
     "output_type": "stream",
     "text": [
      "distilbert: 253.15 MB (66,362,880 parameters)\n",
      "pre_classifier: 2.25 MB (590,592 parameters)\n",
      "classifier: 0.01 MB (1,538 parameters)\n"
     ]
    }
   ],
   "source": [
    "# Group parameters by layer\n",
    "layer_params = {}\n",
    "for name, param in model.named_parameters():\n",
    "    layer_name = name.split('.')[0] if '.' in name else name\n",
    "    if layer_name not in layer_params:\n",
    "        layer_params[layer_name] = 0\n",
    "    layer_params[layer_name] += param.numel()\n",
    "\n",
    "# Calculate sizes in MB\n",
    "layer_sizes_mb = {layer: params * 4 / (1024 * 1024) for layer, params in layer_params.items()}\n",
    "\n",
    "# Plot layer sizes\n",
    "plt.figure(figsize=(10, 6))\n",
    "plt.bar(layer_sizes_mb.keys(), layer_sizes_mb.values())\n",
    "plt.title('Memory Usage by Layer (MB)')\n",
    "plt.xticks(rotation=45, ha='right')\n",
    "plt.tight_layout()\n",
    "plt.show()\n",
    "\n",
    "# Print layer statistics\n",
    "for layer, size in sorted(layer_sizes_mb.items(), key=lambda x: x[1], reverse=True):\n",
    "    print(f\"{layer}: {size:.2f} MB ({layer_params[layer]:,} parameters)\")"
   ]
  },
  {
   "cell_type": "code",
   "execution_count": 10,
   "metadata": {},
   "outputs": [
    {
     "data": {
      "image/png": "[encoded data removed]",
      "text/plain": [
       "<Figure size 1000x600 with 1 Axes>"
      ]
     },
     "metadata": {},
     "output_type": "display_data"
    }
   ],
   "source": [
    "import time\n",
    "\n",
    "# Function to measure inference time for different sequence lengths\n",
    "def measure_inference_by_length(model, tokenizer, device, max_length=512, step=32):\n",
    "    model.to(device)\n",
    "    model.eval()\n",
    "    \n",
    "    sequence_lengths = list(range(step, max_length + 1, step))\n",
    "    latencies = []\n",
    "    \n",
    "    # Sample text (repeated to create longer sequences)\n",
    "    base_text = \"This is a sample text for inference time measurement. \"\n",
    "    \n",
    "    with torch.no_grad():\n",
    "        for length in sequence_lengths:\n",
    "            # Create text of appropriate length\n",
    "            text = base_text * (length // len(base_text) + 1)\n",
    "            text = text[:length]\n",
    "            \n",
    "            # Tokenize\n",
    "            inputs = tokenizer(text, return_tensors=\"pt\", padding=\"max_length\", \n",
    "                              max_length=length, truncation=True)\n",
    "            inputs = {k: v.to(device) for k, v in inputs.items()}\n",
    "            \n",
    "            # Measure inference time (average of 5 runs)\n",
    "            times = []\n",
    "            for _ in range(5):\n",
    "                start_time = time.time()\n",
    "                _ = model(**inputs)\n",
    "                times.append(time.time() - start_time)\n",
    "            \n",
    "            latencies.append(sum(times) / len(times) * 1000)  # Convert to ms\n",
    "    \n",
    "    return sequence_lengths, latencies\n",
    "\n",
    "# Measure inference time by sequence length\n",
    "lengths, latencies = measure_inference_by_length(model, tokenizer, DEVICE, max_length=256)\n",
    "\n",
    "# Plot results\n",
    "plt.figure(figsize=(10, 6))\n",
    "plt.plot(lengths, latencies, 'o-')\n",
    "plt.title('Inference Time vs Sequence Length')\n",
    "plt.xlabel('Sequence Length (tokens)')\n",
    "plt.ylabel('Inference Time (ms)')\n",
    "plt.grid(True)\n",
    "plt.tight_layout()\n",
    "plt.show()"
   ]
  },
  {
   "cell_type": "code",
   "execution_count": 11,
   "metadata": {},
   "outputs": [
    {
     "name": "stdout",
     "output_type": "stream",
     "text": [
      "CUDA not available, skipping memory analysis\n"
     ]
    }
   ],
   "source": [
    "# Function to measure memory usage for different batch sizes\n",
    "def measure_memory_by_batch(model, tokenizer, device, max_batch=32, sequence_length=128):\n",
    "    if not torch.cuda.is_available():\n",
    "        print(\"CUDA not available, skipping memory measurement\")\n",
    "        return [], []\n",
    "    \n",
    "    model.to(device)\n",
    "    model.eval()\n",
    "    \n",
    "    batch_sizes = [2**i for i in range(6) if 2**i <= max_batch]  # Powers of 2 up to max_batch\n",
    "    memory_usage = []\n",
    "    \n",
    "    # Sample text\n",
    "    base_text = \"This is a sample text for memory usage measurement. \"\n",
    "    text = base_text * (sequence_length // len(base_text) + 1)\n",
    "    text = text[:sequence_length]\n",
    "    \n",
    "    with torch.no_grad():\n",
    "        for batch_size in batch_sizes:\n",
    "            # Reset memory stats\n",
    "            torch.cuda.reset_peak_memory_stats(device)\n",
    "            \n",
    "            # Create batch\n",
    "            texts = [text] * batch_size\n",
    "            inputs = tokenizer(texts, return_tensors=\"pt\", padding=\"max_length\", \n",
    "                              max_length=sequence_length, truncation=True)\n",
    "            inputs = {k: v.to(device) for k, v in inputs.items()}\n",
    "            \n",
    "            # Run inference\n",
    "            _ = model(**inputs)\n",
    "            \n",
    "            # Measure memory\n",
    "            memory_mb = torch.cuda.max_memory_allocated(device) / (1024 * 1024)\n",
    "            memory_usage.append(memory_mb)\n",
    "    \n",
    "    return batch_sizes, memory_usage\n",
    "\n",
    "# Measure memory usage by batch size\n",
    "if torch.cuda.is_available():\n",
    "    batch_sizes, memory_usages = measure_memory_by_batch(model, tokenizer, DEVICE)\n",
    "    \n",
    "    # Plot results\n",
    "    plt.figure(figsize=(10, 6))\n",
    "    plt.plot(batch_sizes, memory_usages, 'o-')\n",
    "    plt.title('Memory Usage vs Batch Size')\n",
    "    plt.xlabel('Batch Size')\n",
    "    plt.ylabel('GPU Memory Usage (MB)')\n",
    "    plt.grid(True)\n",
    "    plt.tight_layout()\n",
    "    plt.show()\n",
    "else:\n",
    "    print(\"CUDA not available, skipping memory analysis\")"
   ]
  },
  {
   "cell_type": "code",
   "execution_count": 12,
   "metadata": {},
   "outputs": [
    {
     "name": "stdout",
     "output_type": "stream",
     "text": [
      "=== DistilBERT Baseline Summary ===\n",
      "Model size: 255.41 MB\n",
      "Number of parameters: 66,955,010\n",
      "Inference latency: 202.79 ms\n",
      "Accuracy: 0.4908\n",
      "\n",
      "Optimization Targets:\n",
      "- Target model size (50% reduction): 127.71 MB\n",
      "- Target accuracy (90% of baseline): 0.4417\n",
      "\n",
      "Next steps will explore optimization techniques including:\n",
      "1. Pruning: Remove less important weights\n",
      "2. Quantization: Reduce precision of weights and activations\n",
      "3. Inference optimization: Optimize model for inference speed\n"
     ]
    }
   ],
   "source": [
    "# Summary\n",
    "print(\"=== DistilBERT Baseline Summary ===\")\n",
    "print(f\"Model size: {baseline_metrics['model_size_mb']:.2f} MB\")\n",
    "print(f\"Number of parameters: {baseline_metrics['num_parameters']:,}\")\n",
    "print(f\"Inference latency: {baseline_metrics['avg_latency_ms']:.2f} ms\")\n",
    "print(f\"Accuracy: {baseline_metrics['accuracy']:.4f}\")\n",
    "print(\"\\nOptimization Targets:\")\n",
    "print(f\"- Target model size (50% reduction): {baseline_metrics['model_size_mb'] * 0.5:.2f} MB\")\n",
    "print(f\"- Target accuracy (90% of baseline): {baseline_metrics['accuracy'] * 0.9:.4f}\")\n",
    "print(\"\\nNext steps will explore optimization techniques including:\")\n",
    "print(\"1. Pruning: Remove less important weights\")\n",
    "print(\"2. Quantization: Reduce precision of weights and activations\")\n",
    "print(\"3. Inference optimization: Optimize model for inference speed\")"
   ]
  },
  {
   "cell_type": "code",
   "execution_count": null,
   "metadata": {},
   "outputs": [],
   "source": []
  }
 ],
 "metadata": {
  "kernelspec": {
   "display_name": ".venv",
   "language": "python",
   "name": "python3"
  },
  "language_info": {
   "codemirror_mode": {
    "name": "ipython",
    "version": 3
   },
   "file_extension": ".py",
   "mimetype": "text/x-python",
   "name": "python",
   "nbconvert_exporter": "python",
   "pygments_lexer": "ipython3",
   "version": "3.12.4"
  }
 },
 "nbformat": 4,
 "nbformat_minor": 2
}
