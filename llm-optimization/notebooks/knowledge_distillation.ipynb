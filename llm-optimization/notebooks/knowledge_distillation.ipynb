{
 "cells": [
  {
   "cell_type": "markdown",
   "metadata": {},
   "source": [
    "# Knowledge Distillation for LLM Optimization\n",
    "\n",
    "This notebook implements knowledge distillation to optimize DistilBERT for deployment on edge devices. Knowledge distillation is a technique where a smaller model (student) is trained to mimic the behavior of a larger, more powerful model (teacher)."
   ]
  },
  {
   "cell_type": "code",
   "execution_count": 1,
   "metadata": {},
   "outputs": [],
   "source": [
    "import sys\n",
    "import torch\n",
    "import numpy as np\n",
    "import matplotlib.pyplot as plt\n",
    "from pathlib import Path\n",
    "\n",
    "# Add the src directory to the path\n",
    "sys.path.append('..')"
   ]
  },
  {
   "cell_type": "code",
   "execution_count": 2,
   "metadata": {},
   "outputs": [],
   "source": [
    "# Import our modules\n",
    "from src.models.distilbert import load_distilbert_model, get_device\n",
    "from src.models.knowledge_distillation import create_student_model, DistillationTrainer\n",
    "from src.data.dataset import load_and_prepare_data, prepare_batch_for_model\n",
    "from src.utils.metrics import measure_performance, save_metrics, print_metrics"
   ]
  },
  {
   "cell_type": "code",
   "execution_count": 9,
   "metadata": {},
   "outputs": [
    {
     "name": "stdout",
     "output_type": "stream",
     "text": [
      "Using device: cpu\n"
     ]
    }
   ],
   "source": [
    "# Configuration\n",
    "MODEL_NAME = \"distilbert-base-uncased\"\n",
    "NUM_LABELS = 2  # Binary classification\n",
    "\n",
    "# Dataset configuration\n",
    "DATASET_NAME = \"glue\"\n",
    "DATASET_CONFIG = \"sst2\"  # Stanford Sentiment Treebank\n",
    "BATCH_SIZE = 16\n",
    "MAX_LENGTH = 128\n",
    "\n",
    "# Student model configuration\n",
    "STUDENT_NUM_LAYERS = 2  # Reduced from 6 in the original DistilBERT\n",
    "\n",
    "# Training configuration\n",
    "LEARNING_RATE = 5e-5\n",
    "EPOCHS = 2\n",
    "TEMPERATURE = 2.0\n",
    "ALPHA = 0.5  # Balance between hard and soft loss\n",
    "EVAL_EVERY = 100  # Evaluate every N steps\n",
    "\n",
    "# Output path\n",
    "OUTPUT_DIR = Path(\"../outputs\")\n",
    "OUTPUT_DIR.mkdir(exist_ok=True, parents=True)\n",
    "\n",
    "# Device\n",
    "DEVICE = get_device()\n",
    "print(f\"Using device: {DEVICE}\")"
   ]
  },
  {
   "cell_type": "markdown",
   "metadata": {},
   "source": [
    "## 1. Load Teacher Model and Data\n",
    "\n",
    "First, we'll load the teacher model (DistilBERT) and prepare the dataset."
   ]
  },
  {
   "cell_type": "code",
   "execution_count": 10,
   "metadata": {},
   "outputs": [
    {
     "name": "stdout",
     "output_type": "stream",
     "text": [
      "Loading pre-trained distilbert-base-uncased model as teacher...\n"
     ]
    },
    {
     "name": "stderr",
     "output_type": "stream",
     "text": [
      "Some weights of DistilBertForSequenceClassification were not initialized from the model checkpoint at distilbert-base-uncased and are newly initialized: ['classifier.bias', 'classifier.weight', 'pre_classifier.bias', 'pre_classifier.weight']\n",
      "You should probably TRAIN this model on a down-stream task to be able to use it for predictions and inference.\n"
     ]
    },
    {
     "name": "stdout",
     "output_type": "stream",
     "text": [
      "Loading dataset and preparing data loaders...\n"
     ]
    }
   ],
   "source": [
    "# Load teacher model and tokenizer\n",
    "print(f\"Loading pre-trained {MODEL_NAME} model as teacher...\")\n",
    "teacher_model, tokenizer = load_distilbert_model(MODEL_NAME, NUM_LABELS)\n",
    "\n",
    "# Load and prepare dataset\n",
    "print(\"Loading dataset and preparing data loaders...\")\n",
    "tokenizer, train_dataloader, eval_dataloader = load_and_prepare_data(\n",
    "    tokenizer, \n",
    "    dataset_name=DATASET_NAME, \n",
    "    dataset_config=DATASET_CONFIG,\n",
    "    batch_size=BATCH_SIZE, \n",
    "    max_length=MAX_LENGTH\n",
    ")"
   ]
  },
  {
   "cell_type": "markdown",
   "metadata": {},
   "source": [
    "## 2. Create the Student Model\n",
    "\n",
    "Now, we'll create a smaller student model with fewer transformer layers."
   ]
  },
  {
   "cell_type": "code",
   "execution_count": 11,
   "metadata": {},
   "outputs": [
    {
     "name": "stdout",
     "output_type": "stream",
     "text": [
      "Creating student model with 2 layers (reduced from 6 in original)...\n",
      "Teacher model parameters: 66,955,010\n",
      "Student model parameters: 38,603,522\n",
      "Reduction: 42.34%\n"
     ]
    }
   ],
   "source": [
    "# Create student model with reduced number of layers\n",
    "print(f\"Creating student model with {STUDENT_NUM_LAYERS} layers (reduced from 6 in original)...\")\n",
    "student_model = create_student_model(\n",
    "    teacher_model=teacher_model,\n",
    "    num_layers=STUDENT_NUM_LAYERS,\n",
    "    num_labels=NUM_LABELS\n",
    ")\n",
    "\n",
    "# Compare the number of parameters in teacher vs student\n",
    "teacher_params = sum(p.numel() for p in teacher_model.parameters())\n",
    "student_params = sum(p.numel() for p in student_model.parameters())\n",
    "\n",
    "print(f\"Teacher model parameters: {teacher_params:,}\")\n",
    "print(f\"Student model parameters: {student_params:,}\")\n",
    "print(f\"Reduction: {(1 - student_params / teacher_params) * 100:.2f}%\")"
   ]
  },
  {
   "cell_type": "markdown",
   "metadata": {},
   "source": [
    "## 3. Train the Student Model using Knowledge Distillation\n",
    "\n",
    "We'll train the student to mimic the teacher's behavior using knowledge distillation."
   ]
  },
  {
   "cell_type": "code",
   "execution_count": 12,
   "metadata": {},
   "outputs": [],
   "source": [
    "# Define optimizer for the student model\n",
    "optimizer = torch.optim.AdamW(student_model.parameters(), lr=LEARNING_RATE)\n",
    "\n",
    "# Define a function to prepare batch (reusing from baseline)\n",
    "def prepare_batch(batch, device):\n",
    "    return prepare_batch_for_model(batch, device)\n",
    "\n",
    "# Create distillation trainer\n",
    "trainer = DistillationTrainer(\n",
    "    teacher_model=teacher_model,\n",
    "    student_model=student_model,\n",
    "    temperature=TEMPERATURE\n",
    ")"
   ]
  },
  {
   "cell_type": "code",
   "execution_count": 13,
   "metadata": {},
   "outputs": [
    {
     "name": "stdout",
     "output_type": "stream",
     "text": [
      "Starting knowledge distillation training...\n"
     ]
    },
    {
     "name": "stderr",
     "output_type": "stream",
     "text": [
      "Epoch 1/2:   2%|▏         | 100/4210 [00:51<1:49:20,  1.60s/it]"
     ]
    },
    {
     "name": "stdout",
     "output_type": "stream",
     "text": [
      "Step 100/8420, Loss: 0.3491, Eval Accuracy: 0.5092\n"
     ]
    },
    {
     "name": "stderr",
     "output_type": "stream",
     "text": [
      "Epoch 1/2:   5%|▍         | 200/4210 [01:44<1:49:10,  1.63s/it]"
     ]
    },
    {
     "name": "stdout",
     "output_type": "stream",
     "text": [
      "Step 200/8420, Loss: 0.3729, Eval Accuracy: 0.5080\n"
     ]
    },
    {
     "name": "stderr",
     "output_type": "stream",
     "text": [
      "Epoch 1/2:   7%|▋         | 300/4210 [02:35<1:46:20,  1.63s/it]"
     ]
    },
    {
     "name": "stdout",
     "output_type": "stream",
     "text": [
      "Step 300/8420, Loss: 0.3647, Eval Accuracy: 0.6674\n"
     ]
    },
    {
     "name": "stderr",
     "output_type": "stream",
     "text": [
      "Epoch 1/2:  10%|▉         | 400/4210 [03:27<1:43:11,  1.63s/it]"
     ]
    },
    {
     "name": "stdout",
     "output_type": "stream",
     "text": [
      "Step 400/8420, Loss: 0.3042, Eval Accuracy: 0.6594\n"
     ]
    },
    {
     "name": "stderr",
     "output_type": "stream",
     "text": [
      "Epoch 1/2:  12%|█▏        | 500/4210 [04:19<1:39:50,  1.61s/it]"
     ]
    },
    {
     "name": "stdout",
     "output_type": "stream",
     "text": [
      "Step 500/8420, Loss: 0.3080, Eval Accuracy: 0.7179\n"
     ]
    },
    {
     "name": "stderr",
     "output_type": "stream",
     "text": [
      "Epoch 1/2:  14%|█▍        | 600/4210 [05:11<1:36:18,  1.60s/it]"
     ]
    },
    {
     "name": "stdout",
     "output_type": "stream",
     "text": [
      "Step 600/8420, Loss: 0.3003, Eval Accuracy: 0.7305\n"
     ]
    },
    {
     "name": "stderr",
     "output_type": "stream",
     "text": [
      "Epoch 1/2:  17%|█▋        | 700/4210 [06:04<1:33:46,  1.60s/it]"
     ]
    },
    {
     "name": "stdout",
     "output_type": "stream",
     "text": [
      "Step 700/8420, Loss: 0.3266, Eval Accuracy: 0.7615\n"
     ]
    },
    {
     "name": "stderr",
     "output_type": "stream",
     "text": [
      "Epoch 1/2:  19%|█▉        | 800/4210 [06:58<1:37:42,  1.72s/it]"
     ]
    },
    {
     "name": "stdout",
     "output_type": "stream",
     "text": [
      "Step 800/8420, Loss: 0.2964, Eval Accuracy: 0.7523\n"
     ]
    },
    {
     "name": "stderr",
     "output_type": "stream",
     "text": [
      "Epoch 1/2:  21%|██▏       | 900/4210 [07:50<1:28:59,  1.61s/it]"
     ]
    },
    {
     "name": "stdout",
     "output_type": "stream",
     "text": [
      "Step 900/8420, Loss: 0.2921, Eval Accuracy: 0.7362\n"
     ]
    },
    {
     "name": "stderr",
     "output_type": "stream",
     "text": [
      "Epoch 1/2:  24%|██▍       | 1000/4210 [08:43<1:27:08,  1.63s/it]"
     ]
    },
    {
     "name": "stdout",
     "output_type": "stream",
     "text": [
      "Step 1000/8420, Loss: 0.2930, Eval Accuracy: 0.7603\n"
     ]
    },
    {
     "name": "stderr",
     "output_type": "stream",
     "text": [
      "Epoch 1/2:  26%|██▌       | 1100/4210 [09:36<1:23:22,  1.61s/it]"
     ]
    },
    {
     "name": "stdout",
     "output_type": "stream",
     "text": [
      "Step 1100/8420, Loss: 0.2537, Eval Accuracy: 0.7557\n"
     ]
    },
    {
     "name": "stderr",
     "output_type": "stream",
     "text": [
      "Epoch 1/2:  29%|██▊       | 1200/4210 [10:28<1:20:44,  1.61s/it]"
     ]
    },
    {
     "name": "stdout",
     "output_type": "stream",
     "text": [
      "Step 1200/8420, Loss: 0.2851, Eval Accuracy: 0.7798\n"
     ]
    },
    {
     "name": "stderr",
     "output_type": "stream",
     "text": [
      "Epoch 1/2:  31%|███       | 1300/4210 [11:22<1:18:25,  1.62s/it]"
     ]
    },
    {
     "name": "stdout",
     "output_type": "stream",
     "text": [
      "Step 1300/8420, Loss: 0.2684, Eval Accuracy: 0.7844\n"
     ]
    },
    {
     "name": "stderr",
     "output_type": "stream",
     "text": [
      "Epoch 1/2:  33%|███▎      | 1400/4210 [12:14<1:15:22,  1.61s/it]"
     ]
    },
    {
     "name": "stdout",
     "output_type": "stream",
     "text": [
      "Step 1400/8420, Loss: 0.2481, Eval Accuracy: 0.7833\n"
     ]
    },
    {
     "name": "stderr",
     "output_type": "stream",
     "text": [
      "Epoch 1/2:  36%|███▌      | 1500/4210 [13:07<1:16:49,  1.70s/it]"
     ]
    },
    {
     "name": "stdout",
     "output_type": "stream",
     "text": [
      "Step 1500/8420, Loss: 0.2867, Eval Accuracy: 0.7787\n"
     ]
    },
    {
     "name": "stderr",
     "output_type": "stream",
     "text": [
      "Epoch 1/2:  38%|███▊      | 1600/4210 [14:03<1:14:57,  1.72s/it]"
     ]
    },
    {
     "name": "stdout",
     "output_type": "stream",
     "text": [
      "Step 1600/8420, Loss: 0.2752, Eval Accuracy: 0.7901\n"
     ]
    },
    {
     "name": "stderr",
     "output_type": "stream",
     "text": [
      "Epoch 1/2:  40%|████      | 1700/4210 [14:55<1:06:38,  1.59s/it]"
     ]
    },
    {
     "name": "stdout",
     "output_type": "stream",
     "text": [
      "Step 1700/8420, Loss: 0.2606, Eval Accuracy: 0.7511\n"
     ]
    },
    {
     "name": "stderr",
     "output_type": "stream",
     "text": [
      "Epoch 1/2:  43%|████▎     | 1800/4210 [15:48<1:06:40,  1.66s/it]"
     ]
    },
    {
     "name": "stdout",
     "output_type": "stream",
     "text": [
      "Step 1800/8420, Loss: 0.3130, Eval Accuracy: 0.8016\n"
     ]
    },
    {
     "name": "stderr",
     "output_type": "stream",
     "text": [
      "Epoch 1/2:  45%|████▌     | 1900/4210 [16:43<1:06:38,  1.73s/it]"
     ]
    },
    {
     "name": "stdout",
     "output_type": "stream",
     "text": [
      "Step 1900/8420, Loss: 0.2419, Eval Accuracy: 0.7924\n"
     ]
    },
    {
     "name": "stderr",
     "output_type": "stream",
     "text": [
      "Epoch 1/2:  48%|████▊     | 2000/4210 [17:38<58:08,  1.58s/it]  "
     ]
    },
    {
     "name": "stdout",
     "output_type": "stream",
     "text": [
      "Step 2000/8420, Loss: 0.3286, Eval Accuracy: 0.7970\n"
     ]
    },
    {
     "name": "stderr",
     "output_type": "stream",
     "text": [
      "Epoch 1/2:  50%|████▉     | 2100/4210 [18:31<56:22,  1.60s/it]"
     ]
    },
    {
     "name": "stdout",
     "output_type": "stream",
     "text": [
      "Step 2100/8420, Loss: 0.3059, Eval Accuracy: 0.7787\n"
     ]
    },
    {
     "name": "stderr",
     "output_type": "stream",
     "text": [
      "Epoch 1/2:  52%|█████▏    | 2200/4210 [19:23<53:14,  1.59s/it]"
     ]
    },
    {
     "name": "stdout",
     "output_type": "stream",
     "text": [
      "Step 2200/8420, Loss: 0.2518, Eval Accuracy: 0.8073\n"
     ]
    },
    {
     "name": "stderr",
     "output_type": "stream",
     "text": [
      "Epoch 1/2:  55%|█████▍    | 2300/4210 [20:16<52:57,  1.66s/it]"
     ]
    },
    {
     "name": "stdout",
     "output_type": "stream",
     "text": [
      "Step 2300/8420, Loss: 0.2358, Eval Accuracy: 0.8005\n"
     ]
    },
    {
     "name": "stderr",
     "output_type": "stream",
     "text": [
      "Epoch 1/2:  57%|█████▋    | 2400/4210 [21:08<47:37,  1.58s/it]"
     ]
    },
    {
     "name": "stdout",
     "output_type": "stream",
     "text": [
      "Step 2400/8420, Loss: 0.2379, Eval Accuracy: 0.7959\n"
     ]
    },
    {
     "name": "stderr",
     "output_type": "stream",
     "text": [
      "Epoch 1/2:  59%|█████▉    | 2500/4210 [22:00<47:18,  1.66s/it]"
     ]
    },
    {
     "name": "stdout",
     "output_type": "stream",
     "text": [
      "Step 2500/8420, Loss: 0.2578, Eval Accuracy: 0.7775\n"
     ]
    },
    {
     "name": "stderr",
     "output_type": "stream",
     "text": [
      "Epoch 1/2:  62%|██████▏   | 2600/4210 [22:54<44:51,  1.67s/it]"
     ]
    },
    {
     "name": "stdout",
     "output_type": "stream",
     "text": [
      "Step 2600/8420, Loss: 0.2860, Eval Accuracy: 0.7936\n"
     ]
    },
    {
     "name": "stderr",
     "output_type": "stream",
     "text": [
      "Epoch 1/2:  64%|██████▍   | 2700/4210 [23:46<39:59,  1.59s/it]"
     ]
    },
    {
     "name": "stdout",
     "output_type": "stream",
     "text": [
      "Step 2700/8420, Loss: 0.2459, Eval Accuracy: 0.8142\n"
     ]
    },
    {
     "name": "stderr",
     "output_type": "stream",
     "text": [
      "Epoch 1/2:  67%|██████▋   | 2800/4210 [24:39<37:50,  1.61s/it]"
     ]
    },
    {
     "name": "stdout",
     "output_type": "stream",
     "text": [
      "Step 2800/8420, Loss: 0.2902, Eval Accuracy: 0.8096\n"
     ]
    },
    {
     "name": "stderr",
     "output_type": "stream",
     "text": [
      "Epoch 1/2:  69%|██████▉   | 2900/4210 [25:31<34:59,  1.60s/it]"
     ]
    },
    {
     "name": "stdout",
     "output_type": "stream",
     "text": [
      "Step 2900/8420, Loss: 0.2687, Eval Accuracy: 0.8039\n"
     ]
    },
    {
     "name": "stderr",
     "output_type": "stream",
     "text": [
      "Epoch 1/2:  71%|███████▏  | 3000/4210 [26:23<33:19,  1.65s/it]"
     ]
    },
    {
     "name": "stdout",
     "output_type": "stream",
     "text": [
      "Step 3000/8420, Loss: 0.2725, Eval Accuracy: 0.8062\n"
     ]
    },
    {
     "name": "stderr",
     "output_type": "stream",
     "text": [
      "Epoch 1/2:  74%|███████▎  | 3100/4210 [27:15<29:23,  1.59s/it]"
     ]
    },
    {
     "name": "stdout",
     "output_type": "stream",
     "text": [
      "Step 3100/8420, Loss: 0.2498, Eval Accuracy: 0.7924\n"
     ]
    },
    {
     "name": "stderr",
     "output_type": "stream",
     "text": [
      "Epoch 1/2:  76%|███████▌  | 3200/4210 [28:08<28:06,  1.67s/it]"
     ]
    },
    {
     "name": "stdout",
     "output_type": "stream",
     "text": [
      "Step 3200/8420, Loss: 0.2994, Eval Accuracy: 0.8050\n"
     ]
    },
    {
     "name": "stderr",
     "output_type": "stream",
     "text": [
      "Epoch 1/2:  78%|███████▊  | 3300/4210 [29:00<24:23,  1.61s/it]"
     ]
    },
    {
     "name": "stdout",
     "output_type": "stream",
     "text": [
      "Step 3300/8420, Loss: 0.2705, Eval Accuracy: 0.8177\n"
     ]
    },
    {
     "name": "stderr",
     "output_type": "stream",
     "text": [
      "Epoch 1/2:  81%|████████  | 3400/4210 [29:52<21:12,  1.57s/it]"
     ]
    },
    {
     "name": "stdout",
     "output_type": "stream",
     "text": [
      "Step 3400/8420, Loss: 0.2504, Eval Accuracy: 0.8096\n"
     ]
    },
    {
     "name": "stderr",
     "output_type": "stream",
     "text": [
      "Epoch 1/2:  83%|████████▎ | 3500/4210 [30:44<19:02,  1.61s/it]"
     ]
    },
    {
     "name": "stdout",
     "output_type": "stream",
     "text": [
      "Step 3500/8420, Loss: 0.2872, Eval Accuracy: 0.7867\n"
     ]
    },
    {
     "name": "stderr",
     "output_type": "stream",
     "text": [
      "Epoch 1/2:  86%|████████▌ | 3600/4210 [31:36<16:13,  1.60s/it]"
     ]
    },
    {
     "name": "stdout",
     "output_type": "stream",
     "text": [
      "Step 3600/8420, Loss: 0.2711, Eval Accuracy: 0.8165\n"
     ]
    },
    {
     "name": "stderr",
     "output_type": "stream",
     "text": [
      "Epoch 1/2:  88%|████████▊ | 3700/4210 [32:28<13:29,  1.59s/it]"
     ]
    },
    {
     "name": "stdout",
     "output_type": "stream",
     "text": [
      "Step 3700/8420, Loss: 0.2793, Eval Accuracy: 0.8131\n"
     ]
    },
    {
     "name": "stderr",
     "output_type": "stream",
     "text": [
      "Epoch 1/2:  90%|█████████ | 3800/4210 [33:21<11:35,  1.70s/it]"
     ]
    },
    {
     "name": "stdout",
     "output_type": "stream",
     "text": [
      "Step 3800/8420, Loss: 0.2461, Eval Accuracy: 0.8119\n"
     ]
    },
    {
     "name": "stderr",
     "output_type": "stream",
     "text": [
      "Epoch 1/2:  93%|█████████▎| 3900/4210 [34:14<08:13,  1.59s/it]"
     ]
    },
    {
     "name": "stdout",
     "output_type": "stream",
     "text": [
      "Step 3900/8420, Loss: 0.2710, Eval Accuracy: 0.7833\n"
     ]
    },
    {
     "name": "stderr",
     "output_type": "stream",
     "text": [
      "Epoch 1/2:  95%|█████████▌| 4000/4210 [35:07<05:48,  1.66s/it]"
     ]
    },
    {
     "name": "stdout",
     "output_type": "stream",
     "text": [
      "Step 4000/8420, Loss: 0.2524, Eval Accuracy: 0.8119\n"
     ]
    },
    {
     "name": "stderr",
     "output_type": "stream",
     "text": [
      "Epoch 1/2:  97%|█████████▋| 4100/4210 [36:00<03:02,  1.66s/it]"
     ]
    },
    {
     "name": "stdout",
     "output_type": "stream",
     "text": [
      "Step 4100/8420, Loss: 0.2485, Eval Accuracy: 0.8096\n"
     ]
    },
    {
     "name": "stderr",
     "output_type": "stream",
     "text": [
      "Epoch 1/2: 100%|█████████▉| 4200/4210 [36:53<00:16,  1.60s/it]"
     ]
    },
    {
     "name": "stdout",
     "output_type": "stream",
     "text": [
      "Step 4200/8420, Loss: 0.2323, Eval Accuracy: 0.8119\n"
     ]
    },
    {
     "name": "stderr",
     "output_type": "stream",
     "text": [
      "Epoch 1/2: 100%|██████████| 4210/4210 [36:58<00:00,  1.90it/s]\n"
     ]
    },
    {
     "name": "stdout",
     "output_type": "stream",
     "text": [
      "Epoch 1/2 - Average Loss: 0.2797\n"
     ]
    },
    {
     "name": "stderr",
     "output_type": "stream",
     "text": [
      "Epoch 2/2:   2%|▏         | 90/4210 [00:47<1:52:00,  1.63s/it]"
     ]
    },
    {
     "name": "stdout",
     "output_type": "stream",
     "text": [
      "Step 4300/8420, Loss: 0.2260, Eval Accuracy: 0.8119\n"
     ]
    },
    {
     "name": "stderr",
     "output_type": "stream",
     "text": [
      "Epoch 2/2:   5%|▍         | 190/4210 [01:40<1:47:19,  1.60s/it]"
     ]
    },
    {
     "name": "stdout",
     "output_type": "stream",
     "text": [
      "Step 4400/8420, Loss: 0.2421, Eval Accuracy: 0.8096\n"
     ]
    },
    {
     "name": "stderr",
     "output_type": "stream",
     "text": [
      "Epoch 2/2:   7%|▋         | 290/4210 [02:34<1:49:15,  1.67s/it]"
     ]
    },
    {
     "name": "stdout",
     "output_type": "stream",
     "text": [
      "Step 4500/8420, Loss: 0.2759, Eval Accuracy: 0.8096\n"
     ]
    },
    {
     "name": "stderr",
     "output_type": "stream",
     "text": [
      "Epoch 2/2:   9%|▉         | 390/4210 [03:28<1:44:54,  1.65s/it]"
     ]
    },
    {
     "name": "stdout",
     "output_type": "stream",
     "text": [
      "Step 4600/8420, Loss: 0.2593, Eval Accuracy: 0.8039\n"
     ]
    },
    {
     "name": "stderr",
     "output_type": "stream",
     "text": [
      "Epoch 2/2:  12%|█▏        | 490/4210 [04:22<1:44:56,  1.69s/it]"
     ]
    },
    {
     "name": "stdout",
     "output_type": "stream",
     "text": [
      "Step 4700/8420, Loss: 0.2616, Eval Accuracy: 0.8039\n"
     ]
    },
    {
     "name": "stderr",
     "output_type": "stream",
     "text": [
      "Epoch 2/2:  14%|█▍        | 590/4210 [05:17<1:43:52,  1.72s/it]"
     ]
    },
    {
     "name": "stdout",
     "output_type": "stream",
     "text": [
      "Step 4800/8420, Loss: 0.2199, Eval Accuracy: 0.7959\n"
     ]
    },
    {
     "name": "stderr",
     "output_type": "stream",
     "text": [
      "Epoch 2/2:  16%|█▋        | 690/4210 [06:11<1:37:23,  1.66s/it]"
     ]
    },
    {
     "name": "stdout",
     "output_type": "stream",
     "text": [
      "Step 4900/8420, Loss: 0.2623, Eval Accuracy: 0.8108\n"
     ]
    },
    {
     "name": "stderr",
     "output_type": "stream",
     "text": [
      "Epoch 2/2:  19%|█▉        | 790/4210 [07:05<1:35:31,  1.68s/it]"
     ]
    },
    {
     "name": "stdout",
     "output_type": "stream",
     "text": [
      "Step 5000/8420, Loss: 0.2425, Eval Accuracy: 0.8016\n"
     ]
    },
    {
     "name": "stderr",
     "output_type": "stream",
     "text": [
      "Epoch 2/2:  21%|██        | 890/4210 [07:59<1:35:19,  1.72s/it]"
     ]
    },
    {
     "name": "stdout",
     "output_type": "stream",
     "text": [
      "Step 5100/8420, Loss: 0.2487, Eval Accuracy: 0.8085\n"
     ]
    },
    {
     "name": "stderr",
     "output_type": "stream",
     "text": [
      "Epoch 2/2:  24%|██▎       | 990/4210 [08:53<1:25:07,  1.59s/it]"
     ]
    },
    {
     "name": "stdout",
     "output_type": "stream",
     "text": [
      "Step 5200/8420, Loss: 0.2513, Eval Accuracy: 0.7947\n"
     ]
    },
    {
     "name": "stderr",
     "output_type": "stream",
     "text": [
      "Epoch 2/2:  26%|██▌       | 1090/4210 [09:46<1:23:23,  1.60s/it]"
     ]
    },
    {
     "name": "stdout",
     "output_type": "stream",
     "text": [
      "Step 5300/8420, Loss: 0.2889, Eval Accuracy: 0.8108\n"
     ]
    },
    {
     "name": "stderr",
     "output_type": "stream",
     "text": [
      "Epoch 2/2:  28%|██▊       | 1190/4210 [10:40<1:23:32,  1.66s/it]"
     ]
    },
    {
     "name": "stdout",
     "output_type": "stream",
     "text": [
      "Step 5400/8420, Loss: 0.2508, Eval Accuracy: 0.8085\n"
     ]
    },
    {
     "name": "stderr",
     "output_type": "stream",
     "text": [
      "Epoch 2/2:  31%|███       | 1290/4210 [11:33<1:22:32,  1.70s/it]"
     ]
    },
    {
     "name": "stdout",
     "output_type": "stream",
     "text": [
      "Step 5500/8420, Loss: 0.2471, Eval Accuracy: 0.7970\n"
     ]
    },
    {
     "name": "stderr",
     "output_type": "stream",
     "text": [
      "Epoch 2/2:  33%|███▎      | 1390/4210 [12:27<1:17:32,  1.65s/it]"
     ]
    },
    {
     "name": "stdout",
     "output_type": "stream",
     "text": [
      "Step 5600/8420, Loss: 0.2240, Eval Accuracy: 0.8108\n"
     ]
    },
    {
     "name": "stderr",
     "output_type": "stream",
     "text": [
      "Epoch 2/2:  35%|███▌      | 1490/4210 [13:21<1:15:28,  1.67s/it]"
     ]
    },
    {
     "name": "stdout",
     "output_type": "stream",
     "text": [
      "Step 5700/8420, Loss: 0.2247, Eval Accuracy: 0.8073\n"
     ]
    },
    {
     "name": "stderr",
     "output_type": "stream",
     "text": [
      "Epoch 2/2:  38%|███▊      | 1590/4210 [14:15<1:13:13,  1.68s/it]"
     ]
    },
    {
     "name": "stdout",
     "output_type": "stream",
     "text": [
      "Step 5800/8420, Loss: 0.2487, Eval Accuracy: 0.8062\n"
     ]
    },
    {
     "name": "stderr",
     "output_type": "stream",
     "text": [
      "Epoch 2/2:  40%|████      | 1690/4210 [15:08<1:09:22,  1.65s/it]"
     ]
    },
    {
     "name": "stdout",
     "output_type": "stream",
     "text": [
      "Step 5900/8420, Loss: 0.2339, Eval Accuracy: 0.8050\n"
     ]
    },
    {
     "name": "stderr",
     "output_type": "stream",
     "text": [
      "Epoch 2/2:  43%|████▎     | 1790/4210 [16:01<1:07:05,  1.66s/it]"
     ]
    },
    {
     "name": "stdout",
     "output_type": "stream",
     "text": [
      "Step 6000/8420, Loss: 0.2236, Eval Accuracy: 0.8131\n"
     ]
    },
    {
     "name": "stderr",
     "output_type": "stream",
     "text": [
      "Epoch 2/2:  45%|████▍     | 1890/4210 [16:54<1:06:30,  1.72s/it]"
     ]
    },
    {
     "name": "stdout",
     "output_type": "stream",
     "text": [
      "Step 6100/8420, Loss: 0.2605, Eval Accuracy: 0.8188\n"
     ]
    },
    {
     "name": "stderr",
     "output_type": "stream",
     "text": [
      "Epoch 2/2:  47%|████▋     | 1990/4210 [17:47<1:02:50,  1.70s/it]"
     ]
    },
    {
     "name": "stdout",
     "output_type": "stream",
     "text": [
      "Step 6200/8420, Loss: 0.2491, Eval Accuracy: 0.8062\n"
     ]
    },
    {
     "name": "stderr",
     "output_type": "stream",
     "text": [
      "Epoch 2/2:  50%|████▉     | 2090/4210 [18:41<58:24,  1.65s/it]  "
     ]
    },
    {
     "name": "stdout",
     "output_type": "stream",
     "text": [
      "Step 6300/8420, Loss: 0.2235, Eval Accuracy: 0.8119\n"
     ]
    },
    {
     "name": "stderr",
     "output_type": "stream",
     "text": [
      "Epoch 2/2:  52%|█████▏    | 2190/4210 [19:36<56:16,  1.67s/it]"
     ]
    },
    {
     "name": "stdout",
     "output_type": "stream",
     "text": [
      "Step 6400/8420, Loss: 0.2328, Eval Accuracy: 0.8050\n"
     ]
    },
    {
     "name": "stderr",
     "output_type": "stream",
     "text": [
      "Epoch 2/2:  54%|█████▍    | 2290/4210 [20:29<51:22,  1.61s/it]"
     ]
    },
    {
     "name": "stdout",
     "output_type": "stream",
     "text": [
      "Step 6500/8420, Loss: 0.2674, Eval Accuracy: 0.8028\n"
     ]
    },
    {
     "name": "stderr",
     "output_type": "stream",
     "text": [
      "Epoch 2/2:  57%|█████▋    | 2390/4210 [21:24<53:54,  1.78s/it]"
     ]
    },
    {
     "name": "stdout",
     "output_type": "stream",
     "text": [
      "Step 6600/8420, Loss: 0.2567, Eval Accuracy: 0.8028\n"
     ]
    },
    {
     "name": "stderr",
     "output_type": "stream",
     "text": [
      "Epoch 2/2:  59%|█████▉    | 2490/4210 [22:18<48:40,  1.70s/it]"
     ]
    },
    {
     "name": "stdout",
     "output_type": "stream",
     "text": [
      "Step 6700/8420, Loss: 0.2804, Eval Accuracy: 0.8108\n"
     ]
    },
    {
     "name": "stderr",
     "output_type": "stream",
     "text": [
      "Epoch 2/2:  62%|██████▏   | 2590/4210 [23:13<44:49,  1.66s/it]"
     ]
    },
    {
     "name": "stdout",
     "output_type": "stream",
     "text": [
      "Step 6800/8420, Loss: 0.2223, Eval Accuracy: 0.8050\n"
     ]
    },
    {
     "name": "stderr",
     "output_type": "stream",
     "text": [
      "Epoch 2/2:  64%|██████▍   | 2690/4210 [24:07<44:10,  1.74s/it]"
     ]
    },
    {
     "name": "stdout",
     "output_type": "stream",
     "text": [
      "Step 6900/8420, Loss: 0.2702, Eval Accuracy: 0.8177\n"
     ]
    },
    {
     "name": "stderr",
     "output_type": "stream",
     "text": [
      "Epoch 2/2:  66%|██████▋   | 2790/4210 [25:01<39:24,  1.67s/it]"
     ]
    },
    {
     "name": "stdout",
     "output_type": "stream",
     "text": [
      "Step 7000/8420, Loss: 0.2509, Eval Accuracy: 0.8028\n"
     ]
    },
    {
     "name": "stderr",
     "output_type": "stream",
     "text": [
      "Epoch 2/2:  69%|██████▊   | 2890/4210 [25:55<36:36,  1.66s/it]"
     ]
    },
    {
     "name": "stdout",
     "output_type": "stream",
     "text": [
      "Step 7100/8420, Loss: 0.2275, Eval Accuracy: 0.8119\n"
     ]
    },
    {
     "name": "stderr",
     "output_type": "stream",
     "text": [
      "Epoch 2/2:  71%|███████   | 2990/4210 [26:49<33:56,  1.67s/it]"
     ]
    },
    {
     "name": "stdout",
     "output_type": "stream",
     "text": [
      "Step 7200/8420, Loss: 0.2743, Eval Accuracy: 0.8119\n"
     ]
    },
    {
     "name": "stderr",
     "output_type": "stream",
     "text": [
      "Epoch 2/2:  73%|███████▎  | 3090/4210 [27:43<31:46,  1.70s/it]"
     ]
    },
    {
     "name": "stdout",
     "output_type": "stream",
     "text": [
      "Step 7300/8420, Loss: 0.2389, Eval Accuracy: 0.8062\n"
     ]
    },
    {
     "name": "stderr",
     "output_type": "stream",
     "text": [
      "Epoch 2/2:  76%|███████▌  | 3190/4210 [28:37<27:18,  1.61s/it]"
     ]
    },
    {
     "name": "stdout",
     "output_type": "stream",
     "text": [
      "Step 7400/8420, Loss: 0.2678, Eval Accuracy: 0.7982\n"
     ]
    },
    {
     "name": "stderr",
     "output_type": "stream",
     "text": [
      "Epoch 2/2:  78%|███████▊  | 3290/4210 [29:30<25:42,  1.68s/it]"
     ]
    },
    {
     "name": "stdout",
     "output_type": "stream",
     "text": [
      "Step 7500/8420, Loss: 0.2739, Eval Accuracy: 0.7982\n"
     ]
    },
    {
     "name": "stderr",
     "output_type": "stream",
     "text": [
      "Epoch 2/2:  81%|████████  | 3390/4210 [30:24<22:15,  1.63s/it]"
     ]
    },
    {
     "name": "stdout",
     "output_type": "stream",
     "text": [
      "Step 7600/8420, Loss: 0.2508, Eval Accuracy: 0.8039\n"
     ]
    },
    {
     "name": "stderr",
     "output_type": "stream",
     "text": [
      "Epoch 2/2:  83%|████████▎ | 3490/4210 [31:18<20:25,  1.70s/it]"
     ]
    },
    {
     "name": "stdout",
     "output_type": "stream",
     "text": [
      "Step 7700/8420, Loss: 0.2233, Eval Accuracy: 0.7913\n"
     ]
    },
    {
     "name": "stderr",
     "output_type": "stream",
     "text": [
      "Epoch 2/2:  85%|████████▌ | 3590/4210 [32:11<16:28,  1.59s/it]"
     ]
    },
    {
     "name": "stdout",
     "output_type": "stream",
     "text": [
      "Step 7800/8420, Loss: 0.3404, Eval Accuracy: 0.8085\n"
     ]
    },
    {
     "name": "stderr",
     "output_type": "stream",
     "text": [
      "Epoch 2/2:  88%|████████▊ | 3690/4210 [33:04<14:37,  1.69s/it]"
     ]
    },
    {
     "name": "stdout",
     "output_type": "stream",
     "text": [
      "Step 7900/8420, Loss: 0.2287, Eval Accuracy: 0.8028\n"
     ]
    },
    {
     "name": "stderr",
     "output_type": "stream",
     "text": [
      "Epoch 2/2:  90%|█████████ | 3790/4210 [33:58<11:46,  1.68s/it]"
     ]
    },
    {
     "name": "stdout",
     "output_type": "stream",
     "text": [
      "Step 8000/8420, Loss: 0.2610, Eval Accuracy: 0.8165\n"
     ]
    },
    {
     "name": "stderr",
     "output_type": "stream",
     "text": [
      "Epoch 2/2:  92%|█████████▏| 3890/4210 [34:52<08:47,  1.65s/it]"
     ]
    },
    {
     "name": "stdout",
     "output_type": "stream",
     "text": [
      "Step 8100/8420, Loss: 0.2585, Eval Accuracy: 0.8119\n"
     ]
    },
    {
     "name": "stderr",
     "output_type": "stream",
     "text": [
      "Epoch 2/2:  95%|█████████▍| 3990/4210 [35:44<06:06,  1.67s/it]"
     ]
    },
    {
     "name": "stdout",
     "output_type": "stream",
     "text": [
      "Step 8200/8420, Loss: 0.2567, Eval Accuracy: 0.8142\n"
     ]
    },
    {
     "name": "stderr",
     "output_type": "stream",
     "text": [
      "Epoch 2/2:  97%|█████████▋| 4090/4210 [36:37<03:12,  1.60s/it]"
     ]
    },
    {
     "name": "stdout",
     "output_type": "stream",
     "text": [
      "Step 8300/8420, Loss: 0.2437, Eval Accuracy: 0.8257\n"
     ]
    },
    {
     "name": "stderr",
     "output_type": "stream",
     "text": [
      "Epoch 2/2: 100%|█████████▉| 4190/4210 [37:30<00:32,  1.64s/it]"
     ]
    },
    {
     "name": "stdout",
     "output_type": "stream",
     "text": [
      "Step 8400/8420, Loss: 0.2897, Eval Accuracy: 0.8096\n"
     ]
    },
    {
     "name": "stderr",
     "output_type": "stream",
     "text": [
      "Epoch 2/2: 100%|██████████| 4210/4210 [37:43<00:00,  1.86it/s]"
     ]
    },
    {
     "name": "stdout",
     "output_type": "stream",
     "text": [
      "Step 8420/8420, Loss: 0.2344, Eval Accuracy: 0.7982\n",
      "Epoch 2/2 - Average Loss: 0.2525\n"
     ]
    },
    {
     "name": "stderr",
     "output_type": "stream",
     "text": [
      "\n"
     ]
    }
   ],
   "source": [
    "# Train the student model\n",
    "print(\"Starting knowledge distillation training...\")\n",
    "training_stats = trainer.train(\n",
    "    train_dataloader=train_dataloader,\n",
    "    eval_dataloader=eval_dataloader,\n",
    "    optimizer=optimizer,\n",
    "    device=DEVICE,\n",
    "    epochs=EPOCHS,\n",
    "    alpha=ALPHA,\n",
    "    eval_every=EVAL_EVERY,\n",
    "    prepare_batch_fn=prepare_batch\n",
    ")"
   ]
  },
  {
   "cell_type": "markdown",
   "metadata": {},
   "source": [
    "## 4. Evaluate and Compare Teacher vs Student\n",
    "\n",
    "Compare the performance of the original teacher model and our distilled student model."
   ]
  },
  {
   "cell_type": "code",
   "execution_count": 14,
   "metadata": {},
   "outputs": [
    {
     "data": {
      "image/png": "[encoded data removed]",
      "text/plain": [
       "<Figure size 1600x500 with 2 Axes>"
      ]
     },
     "metadata": {},
     "output_type": "display_data"
    }
   ],
   "source": [
    "# Plot training loss and evaluation accuracy\n",
    "fig, (ax1, ax2) = plt.subplots(1, 2, figsize=(16, 5))\n",
    "\n",
    "# Plot training loss\n",
    "ax1.plot(training_stats['train_losses'])\n",
    "ax1.set_title('Training Loss')\n",
    "ax1.set_xlabel('Training Steps')\n",
    "ax1.set_ylabel('Loss')\n",
    "ax1.grid(True)\n",
    "\n",
    "# Plot evaluation accuracy\n",
    "eval_steps = [EVAL_EVERY * (i+1) for i in range(len(training_stats['eval_accuracies']))]\n",
    "ax2.plot(eval_steps, training_stats['eval_accuracies'])\n",
    "ax2.set_title('Evaluation Accuracy')\n",
    "ax2.set_xlabel('Training Steps')\n",
    "ax2.set_ylabel('Accuracy')\n",
    "ax2.grid(True)\n",
    "\n",
    "plt.tight_layout()\n",
    "plt.show()"
   ]
  },
  {
   "cell_type": "code",
   "execution_count": 15,
   "metadata": {},
   "outputs": [
    {
     "name": "stdout",
     "output_type": "stream",
     "text": [
      "Measuring student model performance...\n",
      "Metrics saved to ../outputs/student_metrics.pt\n"
     ]
    }
   ],
   "source": [
    "# Load baseline metrics to compare with\n",
    "baseline_metrics = torch.load(OUTPUT_DIR / \"baseline_metrics.pt\")\n",
    "\n",
    "# Measure student performance\n",
    "print(\"Measuring student model performance...\")\n",
    "student_metrics = measure_performance(student_model, eval_dataloader, DEVICE, prepare_batch)\n",
    "\n",
    "# Save student metrics\n",
    "save_metrics(student_metrics, file_path=OUTPUT_DIR / \"student_metrics.pt\")"
   ]
  },
  {
   "cell_type": "code",
   "execution_count": 16,
   "metadata": {},
   "outputs": [
    {
     "name": "stdout",
     "output_type": "stream",
     "text": [
      "\n",
      "===== Teacher Model (Baseline) =====\n",
      "\n",
      "==================================================\n",
      "Model: distilbert-base-uncased\n",
      "Task: Text Classification - glue/sst2\n",
      "Number of parameters: 66,955,010\n",
      "Model size: 255.41 MB\n",
      "Average inference latency: 202.79 ms\n",
      "Accuracy: 0.4908\n",
      "==================================================\n",
      "\n",
      "===== Student Model (Distilled) =====\n",
      "\n",
      "==================================================\n",
      "Model: Distilled distilbert-base-uncased (2 layers)\n",
      "Task: Text Classification - glue/sst2\n",
      "Number of parameters: 38,603,522\n",
      "Model size: 147.26 MB\n",
      "Average inference latency: 69.99 ms\n",
      "Accuracy: 0.7982\n",
      "==================================================\n"
     ]
    }
   ],
   "source": [
    "# Print and compare metrics\n",
    "print(\"\\n===== Teacher Model (Baseline) =====\")\n",
    "print_metrics(\n",
    "    baseline_metrics, \n",
    "    model_name=MODEL_NAME, \n",
    "    dataset_info=f\"Text Classification - {DATASET_NAME}/{DATASET_CONFIG}\"\n",
    ")\n",
    "\n",
    "print(\"\\n===== Student Model (Distilled) =====\")\n",
    "print_metrics(\n",
    "    student_metrics, \n",
    "    model_name=f\"Distilled {MODEL_NAME} ({STUDENT_NUM_LAYERS} layers)\", \n",
    "    dataset_info=f\"Text Classification - {DATASET_NAME}/{DATASET_CONFIG}\"\n",
    ")"
   ]
  },
  {
   "cell_type": "code",
   "execution_count": 17,
   "metadata": {},
   "outputs": [
    {
     "name": "stdout",
     "output_type": "stream",
     "text": [
      "\n",
      "===== Performance Comparison =====\n",
      "Size reduction: 42.34%\n",
      "Speed improvement: 2.90x\n",
      "Accuracy retention: 162.62%\n",
      "\n",
      "===== Optimization Targets =====\n",
      "Size target (50% reduction): ❌ Not achieved\n",
      "Accuracy target (90% retention): ✅ Achieved\n"
     ]
    }
   ],
   "source": [
    "# Calculate key metrics for comparison\n",
    "size_reduction = 1 - (student_metrics['model_size_mb'] / baseline_metrics['model_size_mb'])\n",
    "speed_improvement = baseline_metrics['avg_latency_seconds'] / student_metrics['avg_latency_seconds'] \n",
    "accuracy_retention = student_metrics['accuracy'] / baseline_metrics['accuracy']\n",
    "\n",
    "print(\"\\n===== Performance Comparison =====\")\n",
    "print(f\"Size reduction: {size_reduction * 100:.2f}%\")\n",
    "print(f\"Speed improvement: {speed_improvement:.2f}x\")\n",
    "print(f\"Accuracy retention: {accuracy_retention * 100:.2f}%\")\n",
    "\n",
    "# Check against optimization targets\n",
    "print(\"\\n===== Optimization Targets =====\")\n",
    "print(f\"Size target (50% reduction): {'✅ Achieved' if size_reduction >= 0.5 else '❌ Not achieved'}\")\n",
    "print(f\"Accuracy target (90% retention): {'✅ Achieved' if accuracy_retention >= 0.9 else '❌ Not achieved'}\")"
   ]
  },
  {
   "cell_type": "code",
   "execution_count": 18,
   "metadata": {},
   "outputs": [
    {
     "data": {
      "image/png": "[encoded data removed]",
      "text/plain": [
       "<Figure size 1500x1000 with 4 Axes>"
      ]
     },
     "metadata": {},
     "output_type": "display_data"
    }
   ],
   "source": [
    "# Plot size, speed, and accuracy comparison\n",
    "labels = ['Teacher', 'Student']\n",
    "\n",
    "# Prepare data for comparison\n",
    "sizes = [baseline_metrics['model_size_mb'], student_metrics['model_size_mb']]\n",
    "latencies = [baseline_metrics['avg_latency_ms'], student_metrics['avg_latency_ms']]\n",
    "accuracies = [baseline_metrics['accuracy'] * 100, student_metrics['accuracy'] * 100]\n",
    "params = [baseline_metrics['num_parameters'] / 1e6, student_metrics['num_parameters'] / 1e6]\n",
    "\n",
    "# Create bar chart comparisons\n",
    "fig, axs = plt.subplots(2, 2, figsize=(15, 10))\n",
    "\n",
    "# Size comparison\n",
    "axs[0, 0].bar(labels, sizes)\n",
    "axs[0, 0].set_title('Model Size (MB)')\n",
    "axs[0, 0].set_ylabel('Size (MB)')\n",
    "for i, v in enumerate(sizes):\n",
    "    axs[0, 0].text(i, v + 2, f\"{v:.2f}\", ha='center')\n",
    "\n",
    "# Latency comparison\n",
    "axs[0, 1].bar(labels, latencies)\n",
    "axs[0, 1].set_title('Inference Latency (ms)')\n",
    "axs[0, 1].set_ylabel('Latency (ms)')\n",
    "for i, v in enumerate(latencies):\n",
    "    axs[0, 1].text(i, v + 2, f\"{v:.2f}\", ha='center')\n",
    "\n",
    "# Accuracy comparison\n",
    "axs[1, 0].bar(labels, accuracies)\n",
    "axs[1, 0].set_title('Accuracy (%)')\n",
    "axs[1, 0].set_ylabel('Accuracy (%)')\n",
    "for i, v in enumerate(accuracies):\n",
    "    axs[1, 0].text(i, v + 1, f\"{v:.2f}%\", ha='center')\n",
    "\n",
    "# Parameter count comparison\n",
    "axs[1, 1].bar(labels, params)\n",
    "axs[1, 1].set_title('Number of Parameters (Millions)')\n",
    "axs[1, 1].set_ylabel('Parameters (M)')\n",
    "for i, v in enumerate(params):\n",
    "    axs[1, 1].text(i, v + 1, f\"{v:.2f}M\", ha='center')\n",
    "\n",
    "plt.tight_layout()\n",
    "plt.savefig(OUTPUT_DIR / 'knowledge_distillation_comparison.png')\n",
    "plt.show()"
   ]
  },
  {
   "cell_type": "markdown",
   "metadata": {},
   "source": [
    "## 5. Save the Optimized Model\n",
    "\n",
    "Save the student model for later use or deployment."
   ]
  },
  {
   "cell_type": "code",
   "execution_count": 19,
   "metadata": {},
   "outputs": [
    {
     "name": "stdout",
     "output_type": "stream",
     "text": [
      "Student model saved to ../outputs/distilled_model\n"
     ]
    }
   ],
   "source": [
    "# Save the student model\n",
    "student_save_path = OUTPUT_DIR / \"distilled_model\"\n",
    "student_save_path.mkdir(exist_ok=True, parents=True)\n",
    "\n",
    "student_model.save_pretrained(student_save_path)\n",
    "tokenizer.save_pretrained(student_save_path)\n",
    "\n",
    "print(f\"Student model saved to {student_save_path}\")"
   ]
  },
  {
   "cell_type": "markdown",
   "metadata": {},
   "source": [
    "## 6. Summary and Conclusion\n",
    "\n",
    "Summarize the results of knowledge distillation for our LLM optimization task."
   ]
  },
  {
   "cell_type": "code",
   "execution_count": 20,
   "metadata": {},
   "outputs": [
    {
     "name": "stdout",
     "output_type": "stream",
     "text": [
      "===== Knowledge Distillation Summary =====\n",
      "\n",
      "Teacher model: 66,955,010 parameters, 255.41 MB\n",
      "Student model: 38,603,522 parameters, 147.26 MB\n",
      "Size reduction: 42.34%\n",
      "\n",
      "Teacher accuracy: 49.08%\n",
      "Student accuracy: 79.82%\n",
      "Accuracy retention: 162.62%\n",
      "\n",
      "Teacher inference time: 202.79 ms\n",
      "Student inference time: 69.99 ms\n",
      "Speed improvement: 2.90x\n",
      "\n",
      "Conclusion:\n",
      "⚠️ Accuracy retention target was met, but size reduction fell below the 50% target.\n",
      "\n",
      "Next steps could include:\n",
      "- Tuning knowledge distillation hyperparameters (temperature, alpha)\n",
      "- Combining distillation with other optimization approaches\n",
      "- Further reducing the student model size\n"
     ]
    }
   ],
   "source": [
    "# Summary of knowledge distillation results\n",
    "print(\"===== Knowledge Distillation Summary =====\")\n",
    "print(f\"\\nTeacher model: {baseline_metrics['num_parameters']:,} parameters, {baseline_metrics['model_size_mb']:.2f} MB\")\n",
    "print(f\"Student model: {student_metrics['num_parameters']:,} parameters, {student_metrics['model_size_mb']:.2f} MB\")\n",
    "print(f\"Size reduction: {size_reduction * 100:.2f}%\")\n",
    "print(f\"\\nTeacher accuracy: {baseline_metrics['accuracy'] * 100:.2f}%\")\n",
    "print(f\"Student accuracy: {student_metrics['accuracy'] * 100:.2f}%\")\n",
    "print(f\"Accuracy retention: {accuracy_retention * 100:.2f}%\")\n",
    "print(f\"\\nTeacher inference time: {baseline_metrics['avg_latency_ms']:.2f} ms\")\n",
    "print(f\"Student inference time: {student_metrics['avg_latency_ms']:.2f} ms\")\n",
    "print(f\"Speed improvement: {speed_improvement:.2f}x\")\n",
    "\n",
    "print(\"\\nConclusion:\")\n",
    "if size_reduction >= 0.5 and accuracy_retention >= 0.9:\n",
    "    print(\"✅ Knowledge distillation successfully achieved our optimization targets.\")\n",
    "elif size_reduction >= 0.5:\n",
    "    print(\"⚠️ Size reduction target was met, but accuracy retention fell below the 90% target.\")\n",
    "elif accuracy_retention >= 0.9:\n",
    "    print(\"⚠️ Accuracy retention target was met, but size reduction fell below the 50% target.\")\n",
    "else:\n",
    "    print(\"❌ Neither size reduction nor accuracy retention targets were met.\")\n",
    "\n",
    "print(\"\\nNext steps could include:\")\n",
    "print(\"- Tuning knowledge distillation hyperparameters (temperature, alpha)\")\n",
    "print(\"- Combining distillation with other optimization approaches\")\n",
    "print(\"- Further reducing the student model size\")"
   ]
  }
 ],
 "metadata": {
  "kernelspec": {
   "display_name": ".venv",
   "language": "python",
   "name": "python3"
  },
  "language_info": {
   "codemirror_mode": {
    "name": "ipython",
    "version": 3
   },
   "file_extension": ".py",
   "mimetype": "text/x-python",
   "name": "python",
   "nbconvert_exporter": "python",
   "pygments_lexer": "ipython3",
   "version": "3.12.4"
  }
 },
 "nbformat": 4,
 "nbformat_minor": 4
}
